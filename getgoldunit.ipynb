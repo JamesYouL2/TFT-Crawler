{
 "metadata": {
  "language_info": {
   "codemirror_mode": {
    "name": "ipython",
    "version": 3
   },
   "file_extension": ".py",
   "mimetype": "text/x-python",
   "name": "python",
   "nbconvert_exporter": "python",
   "pygments_lexer": "ipython3",
   "version": 3
  },
  "orig_nbformat": 2,
  "kernelspec": {
   "name": "python_defaultSpec_1595902854588",
   "display_name": "Python 3.7.4 64-bit ('base': conda)"
  }
 },
 "nbformat": 4,
 "nbformat_minor": 2,
 "cells": [
  {
   "cell_type": "code",
   "execution_count": 23,
   "metadata": {
    "tags": []
   },
   "outputs": [],
   "source": [
    "import json\n",
    "import pandas as pd\n",
    "import hdbscan\n",
    "import numpy as np\n",
    "from TFTClusterer import TFTClusterer\n",
    "from datetime import datetime, timedelta\n",
    "from googledrivesave import trashfolder, outputtodrive\n",
    "import pygsheets\n",
    "from SQLGatherer import loaddb\n",
    "from matplotlib import pyplot as plt\n",
    "df = loaddb(hours=10)\n",
    "gameversion = df['game_version'].max()\n",
    "df=df.loc[df['game_version']==gameversion]\n",
    "\n",
    "assert len(df) >= 100, \"less than 100 matches in newest patch\"\n",
    "#Cluster Data\n",
    "\n",
    "clusterclass=TFTClusterer(df)\n",
    "#clusterclass.imputetraits()"
   ]
  },
  {
   "cell_type": "code",
   "execution_count": 24,
   "metadata": {},
   "outputs": [
    {
     "output_type": "execute_result",
     "data": {
      "text/plain": "       character_id         items name  rarity  tier      match_id  \\\n0  TFT3_TwistedFate            []            0     2  RU_282184018   \n1        TFT3_Poppy  [99, 12, 57]            0     2  RU_282184018   \n2          TFT3_Zoe            []            0     2  RU_282184018   \n3         TFT3_Ahri            []            1     2  RU_282184018   \n4        TFT3_Annie           [6]            1     2  RU_282184018   \n\n                  game_variation participants.placement  \\\n0  TFT3_GameVariation_MidGameFoN                      6   \n1  TFT3_GameVariation_MidGameFoN                      6   \n2  TFT3_GameVariation_MidGameFoN                      6   \n3  TFT3_GameVariation_MidGameFoN                      6   \n4  TFT3_GameVariation_MidGameFoN                      6   \n\n                                  participants.puuid  \n0  ty5DB-AmC-iPdXtm7266F6cUmWOWKK_O0WLg0T0AGOtjc2...  \n1  ty5DB-AmC-iPdXtm7266F6cUmWOWKK_O0WLg0T0AGOtjc2...  \n2  ty5DB-AmC-iPdXtm7266F6cUmWOWKK_O0WLg0T0AGOtjc2...  \n3  ty5DB-AmC-iPdXtm7266F6cUmWOWKK_O0WLg0T0AGOtjc2...  \n4  ty5DB-AmC-iPdXtm7266F6cUmWOWKK_O0WLg0T0AGOtjc2...  ",
      "text/html": "<div>\n<style scoped>\n    .dataframe tbody tr th:only-of-type {\n        vertical-align: middle;\n    }\n\n    .dataframe tbody tr th {\n        vertical-align: top;\n    }\n\n    .dataframe thead th {\n        text-align: right;\n    }\n</style>\n<table border=\"1\" class=\"dataframe\">\n  <thead>\n    <tr style=\"text-align: right;\">\n      <th></th>\n      <th>character_id</th>\n      <th>items</th>\n      <th>name</th>\n      <th>rarity</th>\n      <th>tier</th>\n      <th>match_id</th>\n      <th>game_variation</th>\n      <th>participants.placement</th>\n      <th>participants.puuid</th>\n    </tr>\n  </thead>\n  <tbody>\n    <tr>\n      <th>0</th>\n      <td>TFT3_TwistedFate</td>\n      <td>[]</td>\n      <td></td>\n      <td>0</td>\n      <td>2</td>\n      <td>RU_282184018</td>\n      <td>TFT3_GameVariation_MidGameFoN</td>\n      <td>6</td>\n      <td>ty5DB-AmC-iPdXtm7266F6cUmWOWKK_O0WLg0T0AGOtjc2...</td>\n    </tr>\n    <tr>\n      <th>1</th>\n      <td>TFT3_Poppy</td>\n      <td>[99, 12, 57]</td>\n      <td></td>\n      <td>0</td>\n      <td>2</td>\n      <td>RU_282184018</td>\n      <td>TFT3_GameVariation_MidGameFoN</td>\n      <td>6</td>\n      <td>ty5DB-AmC-iPdXtm7266F6cUmWOWKK_O0WLg0T0AGOtjc2...</td>\n    </tr>\n    <tr>\n      <th>2</th>\n      <td>TFT3_Zoe</td>\n      <td>[]</td>\n      <td></td>\n      <td>0</td>\n      <td>2</td>\n      <td>RU_282184018</td>\n      <td>TFT3_GameVariation_MidGameFoN</td>\n      <td>6</td>\n      <td>ty5DB-AmC-iPdXtm7266F6cUmWOWKK_O0WLg0T0AGOtjc2...</td>\n    </tr>\n    <tr>\n      <th>3</th>\n      <td>TFT3_Ahri</td>\n      <td>[]</td>\n      <td></td>\n      <td>1</td>\n      <td>2</td>\n      <td>RU_282184018</td>\n      <td>TFT3_GameVariation_MidGameFoN</td>\n      <td>6</td>\n      <td>ty5DB-AmC-iPdXtm7266F6cUmWOWKK_O0WLg0T0AGOtjc2...</td>\n    </tr>\n    <tr>\n      <th>4</th>\n      <td>TFT3_Annie</td>\n      <td>[6]</td>\n      <td></td>\n      <td>1</td>\n      <td>2</td>\n      <td>RU_282184018</td>\n      <td>TFT3_GameVariation_MidGameFoN</td>\n      <td>6</td>\n      <td>ty5DB-AmC-iPdXtm7266F6cUmWOWKK_O0WLg0T0AGOtjc2...</td>\n    </tr>\n  </tbody>\n</table>\n</div>"
     },
     "metadata": {},
     "execution_count": 24
    }
   ],
   "source": [
    "units=clusterclass.unitsdf\n",
    "units.head(5)"
   ]
  },
  {
   "cell_type": "code",
   "execution_count": 28,
   "metadata": {},
   "outputs": [],
   "source": [
    "allrecords = df.to_json(orient='records')"
   ]
  },
  {
   "cell_type": "code",
   "execution_count": 29,
   "metadata": {},
   "outputs": [],
   "source": [
    "        units = pd.json_normalize(json.loads(allrecords), \n",
    "        record_path=['participants','units'],\n",
    "        meta=['match_id','game_variation',['participants','placement'],['participants','puuid'],['participants','level']])\n"
   ]
  },
  {
   "cell_type": "code",
   "execution_count": 31,
   "metadata": {},
   "outputs": [
    {
     "output_type": "execute_result",
     "data": {
      "text/plain": "8    59066\n9    52712\n7    12442\n6     2135\n5     1821\n4      187\n3        3\nName: participants.level, dtype: int64"
     },
     "metadata": {},
     "execution_count": 31
    }
   ],
   "source": [
    "units['participants.level'].value_counts()"
   ]
  },
  {
   "cell_type": "code",
   "execution_count": 68,
   "metadata": {},
   "outputs": [],
   "source": [
    "EXPECTED_PRICE = {\n",
    "    1 : {\n",
    "        3 : 10.4,\n",
    "        4 : 10.4,\n",
    "        5 : 10.4,\n",
    "        6 : 10.4,\n",
    "        7 : 10.4,\n",
    "        8 : 10.4,\n",
    "        9 : 10.4,},\n",
    "    2 : {\n",
    "        3 : 14.5,\n",
    "        4 : 14.5,\n",
    "        5 : 14.5,\n",
    "        6 : 14.5,\n",
    "        7 : 14.5,\n",
    "        8 : 14.5,\n",
    "        9 : 14.5,},\n",
    "    3 : {\n",
    "        3 : 96.8,\n",
    "        4 : 32.8,\n",
    "        5 : 20.0,\n",
    "        6 : 16.8,\n",
    "        7 : 15.4,\n",
    "        8 : 14.5,\n",
    "        9 : 14.5,},\n",
    "    4 : {\n",
    "        3 : 500,\n",
    "        4 : 300,\n",
    "        5 : 121, \n",
    "        6 : 36.8,\n",
    "        7 : 24.8,\n",
    "        8 : 18.8,\n",
    "        9 : 12.8,},\n",
    "    5 : {\n",
    "        3 : 999,\n",
    "        4 : 999,\n",
    "        5 : 999,\n",
    "        6 : 481,\n",
    "        7 : 121,\n",
    "        8 : 48.8,\n",
    "        9 : 24.8,}\n",
    "}"
   ]
  },
  {
   "cell_type": "code",
   "execution_count": 63,
   "metadata": {},
   "outputs": [
    {
     "output_type": "execute_result",
     "data": {
      "text/plain": "       character_id         items name  rarity  tier      match_id  \\\n0  TFT3_TwistedFate            []            0     2  RU_282184018   \n1        TFT3_Poppy  [99, 12, 57]            0     2  RU_282184018   \n2          TFT3_Zoe            []            0     2  RU_282184018   \n3         TFT3_Ahri            []            1     2  RU_282184018   \n4        TFT3_Annie           [6]            1     2  RU_282184018   \n\n                  game_variation participants.placement  \\\n0  TFT3_GameVariation_MidGameFoN                      6   \n1  TFT3_GameVariation_MidGameFoN                      6   \n2  TFT3_GameVariation_MidGameFoN                      6   \n3  TFT3_GameVariation_MidGameFoN                      6   \n4  TFT3_GameVariation_MidGameFoN                      6   \n\n                                  participants.puuid participants.level  gold  \n0  ty5DB-AmC-iPdXtm7266F6cUmWOWKK_O0WLg0T0AGOtjc2...                  7     1  \n1  ty5DB-AmC-iPdXtm7266F6cUmWOWKK_O0WLg0T0AGOtjc2...                  7     1  \n2  ty5DB-AmC-iPdXtm7266F6cUmWOWKK_O0WLg0T0AGOtjc2...                  7     1  \n3  ty5DB-AmC-iPdXtm7266F6cUmWOWKK_O0WLg0T0AGOtjc2...                  7     2  \n4  ty5DB-AmC-iPdXtm7266F6cUmWOWKK_O0WLg0T0AGOtjc2...                  7     2  ",
      "text/html": "<div>\n<style scoped>\n    .dataframe tbody tr th:only-of-type {\n        vertical-align: middle;\n    }\n\n    .dataframe tbody tr th {\n        vertical-align: top;\n    }\n\n    .dataframe thead th {\n        text-align: right;\n    }\n</style>\n<table border=\"1\" class=\"dataframe\">\n  <thead>\n    <tr style=\"text-align: right;\">\n      <th></th>\n      <th>character_id</th>\n      <th>items</th>\n      <th>name</th>\n      <th>rarity</th>\n      <th>tier</th>\n      <th>match_id</th>\n      <th>game_variation</th>\n      <th>participants.placement</th>\n      <th>participants.puuid</th>\n      <th>participants.level</th>\n      <th>gold</th>\n    </tr>\n  </thead>\n  <tbody>\n    <tr>\n      <th>0</th>\n      <td>TFT3_TwistedFate</td>\n      <td>[]</td>\n      <td></td>\n      <td>0</td>\n      <td>2</td>\n      <td>RU_282184018</td>\n      <td>TFT3_GameVariation_MidGameFoN</td>\n      <td>6</td>\n      <td>ty5DB-AmC-iPdXtm7266F6cUmWOWKK_O0WLg0T0AGOtjc2...</td>\n      <td>7</td>\n      <td>1</td>\n    </tr>\n    <tr>\n      <th>1</th>\n      <td>TFT3_Poppy</td>\n      <td>[99, 12, 57]</td>\n      <td></td>\n      <td>0</td>\n      <td>2</td>\n      <td>RU_282184018</td>\n      <td>TFT3_GameVariation_MidGameFoN</td>\n      <td>6</td>\n      <td>ty5DB-AmC-iPdXtm7266F6cUmWOWKK_O0WLg0T0AGOtjc2...</td>\n      <td>7</td>\n      <td>1</td>\n    </tr>\n    <tr>\n      <th>2</th>\n      <td>TFT3_Zoe</td>\n      <td>[]</td>\n      <td></td>\n      <td>0</td>\n      <td>2</td>\n      <td>RU_282184018</td>\n      <td>TFT3_GameVariation_MidGameFoN</td>\n      <td>6</td>\n      <td>ty5DB-AmC-iPdXtm7266F6cUmWOWKK_O0WLg0T0AGOtjc2...</td>\n      <td>7</td>\n      <td>1</td>\n    </tr>\n    <tr>\n      <th>3</th>\n      <td>TFT3_Ahri</td>\n      <td>[]</td>\n      <td></td>\n      <td>1</td>\n      <td>2</td>\n      <td>RU_282184018</td>\n      <td>TFT3_GameVariation_MidGameFoN</td>\n      <td>6</td>\n      <td>ty5DB-AmC-iPdXtm7266F6cUmWOWKK_O0WLg0T0AGOtjc2...</td>\n      <td>7</td>\n      <td>2</td>\n    </tr>\n    <tr>\n      <th>4</th>\n      <td>TFT3_Annie</td>\n      <td>[6]</td>\n      <td></td>\n      <td>1</td>\n      <td>2</td>\n      <td>RU_282184018</td>\n      <td>TFT3_GameVariation_MidGameFoN</td>\n      <td>6</td>\n      <td>ty5DB-AmC-iPdXtm7266F6cUmWOWKK_O0WLg0T0AGOtjc2...</td>\n      <td>7</td>\n      <td>2</td>\n    </tr>\n  </tbody>\n</table>\n</div>"
     },
     "metadata": {},
     "execution_count": 63
    }
   ],
   "source": [
    "units['gold'] = units['rarity'] + 1\n",
    "units.head(5)"
   ]
  },
  {
   "cell_type": "code",
   "execution_count": 70,
   "metadata": {},
   "outputs": [],
   "source": [
    "units['ExpectedGold']=units.apply(\n",
    "            lambda row:\n",
    "            (3**((row['tier'] - 1))*1.15) * (row['gold'] + EXPECTED_PRICE[row['gold']][row['participants.level']]),\n",
    "            axis = 1)"
   ]
  },
  {
   "cell_type": "code",
   "execution_count": 71,
   "metadata": {},
   "outputs": [
    {
     "output_type": "execute_result",
     "data": {
      "text/plain": "count    128366.000000\nmean         63.060462\nstd          39.957390\nmin          13.110000\n25%          39.330000\n50%          57.960000\n75%          63.480000\nmax        1154.600000\nName: ExpectedGold, dtype: float64"
     },
     "metadata": {},
     "execution_count": 71
    }
   ],
   "source": [
    "units['ExpectedGold'].describe()"
   ]
  },
  {
   "cell_type": "code",
   "execution_count": null,
   "metadata": {},
   "outputs": [],
   "source": []
  }
 ]
}