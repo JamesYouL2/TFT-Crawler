{
 "metadata": {
  "language_info": {
   "codemirror_mode": {
    "name": "ipython",
    "version": 3
   },
   "file_extension": ".py",
   "mimetype": "text/x-python",
   "name": "python",
   "nbconvert_exporter": "python",
   "pygments_lexer": "ipython3",
   "version": 3
  },
  "orig_nbformat": 2,
  "kernelspec": {
   "name": "python_defaultSpec_1595908338137",
   "display_name": "Python 3.7.4 64-bit ('base': conda)"
  }
 },
 "nbformat": 4,
 "nbformat_minor": 2,
 "cells": [
  {
   "cell_type": "code",
   "execution_count": 1,
   "metadata": {
    "tags": []
   },
   "outputs": [
    {
     "output_type": "stream",
     "name": "stdout",
     "text": "HDB Scan\n"
    },
    {
     "output_type": "display_data",
     "data": {
      "text/plain": "<Figure size 640x480 with 2 Axes>"
     },
     "metadata": {}
    },
    {
     "output_type": "display_data",
     "data": {
      "text/plain": "<Figure size 1200x800 with 1 Axes>"
     },
     "metadata": {}
    },
    {
     "output_type": "stream",
     "name": "stdout",
     "text": "0.30776043396435293\n"
    }
   ],
   "source": [
    "import json\n",
    "import pandas as pd\n",
    "import hdbscan\n",
    "import numpy as np\n",
    "from TFTClusterer import TFTClusterer\n",
    "from datetime import datetime, timedelta\n",
    "from googledrivesave import trashfolder, outputtodrive\n",
    "import pygsheets\n",
    "from SQLGatherer import loaddb\n",
    "from matplotlib import pyplot as plt\n",
    "df = loaddb(hours=10)\n",
    "gameversion = df['game_version'].max()\n",
    "df=df.loc[df['game_version']==gameversion]\n",
    "\n",
    "assert len(df) >= 100, \"less than 100 matches in newest patch\"\n",
    "#Cluster Data\n",
    "\n",
    "clusterclass=TFTClusterer(df)\n",
    "#clusterclass.imputetraits()\n",
    "clusterclass.reduce_dimension()\n",
    "clusterclass.cluster(divisor=20, cluster_selection_epsilon=0)\n",
    "\n",
    "clusterclass.eval_clustering()\n",
    "clusterclass.plot.figure.savefig('fig.png')\n",
    "pd.DataFrame(clusterclass.clusterdf.groupby('hdbnumber')['hdb'].value_counts()).to_csv('hdbnumber.csv')\n",
    "print(sum(clusterclass.clusterdf['hdbnumber']==0)/len(clusterclass.clusterdf))\n",
    "\n",
    "#output Files for Power BI\n",
    "clusterclass.unitshdb.to_csv(\"unitshdb.csv\",index=False)\n",
    "clusterclass.itemshdb.to_csv(\"itemshdb.csv\",index=False)\n",
    "clusterclass.clusterdf[[\"comp_id\",\"participants.placement\",\"hdb\",\"game_variation\"]].to_csv(\"hdb.csv\",index=False)\n",
    "\n",
    "#Write newest date\n",
    "f = open('newestdate.csv','w')\n",
    "f.write(str(datetime.fromtimestamp(df['game_datetime'].max()/1e3))) #Give your csv text here.\n",
    "f.close()\n",
    "\n"
   ]
  },
  {
   "cell_type": "code",
   "execution_count": 27,
   "metadata": {},
   "outputs": [
    {
     "output_type": "execute_result",
     "data": {
      "text/plain": "Dark Star Protector    4497\nSniper Astro           1609\nBrawler Battlecast     1318\nBlademaster Chrono     1073\nCybernetic Chrono      1013\nVanguard Mystic         698\nNo Comp                 201\nName: hdb, dtype: int64"
     },
     "metadata": {},
     "execution_count": 27
    }
   ],
   "source": [
    "clusterclass.clusterdf['hdb'].value_counts()"
   ]
  },
  {
   "cell_type": "code",
   "execution_count": 28,
   "metadata": {},
   "outputs": [
    {
     "output_type": "error",
     "ename": "NameError",
     "evalue": "name 'units' is not defined",
     "traceback": [
      "\u001b[1;31m---------------------------------------------------------------------------\u001b[0m",
      "\u001b[1;31mNameError\u001b[0m                                 Traceback (most recent call last)",
      "\u001b[1;32m<ipython-input-28-1b4ada50d449>\u001b[0m in \u001b[0;36m<module>\u001b[1;34m()\u001b[0m\n\u001b[1;32m----> 1\u001b[1;33m \u001b[0munits\u001b[0m\u001b[1;33m\u001b[0m\u001b[1;33m\u001b[0m\u001b[0m\n\u001b[0m",
      "\u001b[1;31mNameError\u001b[0m: name 'units' is not defined"
     ]
    }
   ],
   "source": [
    "units"
   ]
  },
  {
   "cell_type": "code",
   "execution_count": 29,
   "metadata": {},
   "outputs": [],
   "source": [
    "EXPECTED_PRICE = {\n",
    "    1 : {\n",
    "        3 : 10.4,\n",
    "        4 : 10.4,\n",
    "        5 : 10.4,\n",
    "        6 : 10.4,\n",
    "        7 : 10.4,\n",
    "        8 : 10.4,\n",
    "        9 : 10.4,},\n",
    "    2 : {\n",
    "        3 : 14.5,\n",
    "        4 : 14.5,\n",
    "        5 : 14.5,\n",
    "        6 : 14.5,\n",
    "        7 : 14.5,\n",
    "        8 : 14.5,\n",
    "        9 : 14.5,},\n",
    "    3 : {\n",
    "        3 : 96.8,\n",
    "        4 : 32.8,\n",
    "        5 : 20.0,\n",
    "        6 : 16.8,\n",
    "        7 : 15.4,\n",
    "        8 : 14.5,\n",
    "        9 : 14.5,},\n",
    "    4 : {\n",
    "        3 : 500,\n",
    "        4 : 300,\n",
    "        5 : 121, \n",
    "        6 : 36.8,\n",
    "        7 : 24.8,\n",
    "        8 : 18.8,\n",
    "        9 : 12.8,},\n",
    "    5 : {\n",
    "        3 : 999,\n",
    "        4 : 999,\n",
    "        5 : 999,\n",
    "        6 : 481,\n",
    "        7 : 121,\n",
    "        8 : 48.8,\n",
    "        9 : 24.8,}\n",
    "}"
   ]
  },
  {
   "cell_type": "code",
   "execution_count": 30,
   "metadata": {},
   "outputs": [
    {
     "output_type": "error",
     "ename": "NameError",
     "evalue": "name 'units' is not defined",
     "traceback": [
      "\u001b[1;31m---------------------------------------------------------------------------\u001b[0m",
      "\u001b[1;31mNameError\u001b[0m                                 Traceback (most recent call last)",
      "\u001b[1;32m<ipython-input-30-950fbd6ef690>\u001b[0m in \u001b[0;36m<module>\u001b[1;34m()\u001b[0m\n\u001b[1;32m----> 1\u001b[1;33m \u001b[0munits\u001b[0m\u001b[1;33m[\u001b[0m\u001b[1;34m'gold'\u001b[0m\u001b[1;33m]\u001b[0m \u001b[1;33m=\u001b[0m \u001b[0munits\u001b[0m\u001b[1;33m[\u001b[0m\u001b[1;34m'rarity'\u001b[0m\u001b[1;33m]\u001b[0m \u001b[1;33m+\u001b[0m \u001b[1;36m1\u001b[0m\u001b[1;33m\u001b[0m\u001b[1;33m\u001b[0m\u001b[0m\n\u001b[0m\u001b[0;32m      2\u001b[0m \u001b[0munits\u001b[0m\u001b[1;33m.\u001b[0m\u001b[0mhead\u001b[0m\u001b[1;33m(\u001b[0m\u001b[1;36m5\u001b[0m\u001b[1;33m)\u001b[0m\u001b[1;33m\u001b[0m\u001b[1;33m\u001b[0m\u001b[0m\n",
      "\u001b[1;31mNameError\u001b[0m: name 'units' is not defined"
     ]
    }
   ],
   "source": [
    "units['gold'] = units['rarity'] + 1\n",
    "units.head(5)"
   ]
  },
  {
   "cell_type": "code",
   "execution_count": 31,
   "metadata": {},
   "outputs": [
    {
     "output_type": "error",
     "ename": "NameError",
     "evalue": "name 'units' is not defined",
     "traceback": [
      "\u001b[1;31m---------------------------------------------------------------------------\u001b[0m",
      "\u001b[1;31mNameError\u001b[0m                                 Traceback (most recent call last)",
      "\u001b[1;32m<ipython-input-31-499115d8c154>\u001b[0m in \u001b[0;36m<module>\u001b[1;34m()\u001b[0m\n\u001b[1;32m----> 1\u001b[1;33m units['ExpectedGold']=units.apply(\n\u001b[0m\u001b[0;32m      2\u001b[0m             \u001b[1;32mlambda\u001b[0m \u001b[0mrow\u001b[0m\u001b[1;33m:\u001b[0m\u001b[1;33m\u001b[0m\u001b[1;33m\u001b[0m\u001b[0m\n\u001b[0;32m      3\u001b[0m             \u001b[1;33m(\u001b[0m\u001b[1;36m3\u001b[0m\u001b[1;33m**\u001b[0m\u001b[1;33m(\u001b[0m\u001b[1;33m(\u001b[0m\u001b[0mrow\u001b[0m\u001b[1;33m[\u001b[0m\u001b[1;34m'tier'\u001b[0m\u001b[1;33m]\u001b[0m \u001b[1;33m-\u001b[0m \u001b[1;36m1\u001b[0m\u001b[1;33m)\u001b[0m\u001b[1;33m)\u001b[0m\u001b[1;33m*\u001b[0m\u001b[1;36m1.15\u001b[0m\u001b[1;33m)\u001b[0m \u001b[1;33m*\u001b[0m \u001b[1;33m(\u001b[0m\u001b[0mrow\u001b[0m\u001b[1;33m[\u001b[0m\u001b[1;34m'gold'\u001b[0m\u001b[1;33m]\u001b[0m \u001b[1;33m+\u001b[0m \u001b[0mEXPECTED_PRICE\u001b[0m\u001b[1;33m[\u001b[0m\u001b[0mrow\u001b[0m\u001b[1;33m[\u001b[0m\u001b[1;34m'gold'\u001b[0m\u001b[1;33m]\u001b[0m\u001b[1;33m]\u001b[0m\u001b[1;33m[\u001b[0m\u001b[0mrow\u001b[0m\u001b[1;33m[\u001b[0m\u001b[1;34m'participants.level'\u001b[0m\u001b[1;33m]\u001b[0m\u001b[1;33m]\u001b[0m\u001b[1;33m)\u001b[0m\u001b[1;33m,\u001b[0m\u001b[1;33m\u001b[0m\u001b[1;33m\u001b[0m\u001b[0m\n\u001b[0;32m      4\u001b[0m             axis = 1)\n",
      "\u001b[1;31mNameError\u001b[0m: name 'units' is not defined"
     ]
    }
   ],
   "source": [
    "units['ExpectedGold']=units.apply(\n",
    "            lambda row:\n",
    "            (3**((row['tier'] - 1))*1.15) * (row['gold'] + EXPECTED_PRICE[row['gold']][row['participants.level']]),\n",
    "            axis = 1)"
   ]
  },
  {
   "cell_type": "code",
   "execution_count": 32,
   "metadata": {},
   "outputs": [
    {
     "output_type": "error",
     "ename": "NameError",
     "evalue": "name 'units' is not defined",
     "traceback": [
      "\u001b[1;31m---------------------------------------------------------------------------\u001b[0m",
      "\u001b[1;31mNameError\u001b[0m                                 Traceback (most recent call last)",
      "\u001b[1;32m<ipython-input-32-862f001dc695>\u001b[0m in \u001b[0;36m<module>\u001b[1;34m()\u001b[0m\n\u001b[1;32m----> 1\u001b[1;33m \u001b[0munits\u001b[0m\u001b[1;33m[\u001b[0m\u001b[1;34m'ExpectedGold'\u001b[0m\u001b[1;33m]\u001b[0m\u001b[1;33m.\u001b[0m\u001b[0mdescribe\u001b[0m\u001b[1;33m(\u001b[0m\u001b[1;33m)\u001b[0m\u001b[1;33m\u001b[0m\u001b[1;33m\u001b[0m\u001b[0m\n\u001b[0m",
      "\u001b[1;31mNameError\u001b[0m: name 'units' is not defined"
     ]
    }
   ],
   "source": [
    "units['ExpectedGold'].describe()"
   ]
  },
  {
   "cell_type": "code",
   "execution_count": null,
   "metadata": {},
   "outputs": [],
   "source": []
  }
 ]
}