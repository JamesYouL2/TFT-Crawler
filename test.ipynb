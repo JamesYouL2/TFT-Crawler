{
 "metadata": {
  "language_info": {
   "codemirror_mode": {
    "name": "ipython",
    "version": 3
   },
   "file_extension": ".py",
   "mimetype": "text/x-python",
   "name": "python",
   "nbconvert_exporter": "python",
   "pygments_lexer": "ipython3",
   "version": 3
  },
  "orig_nbformat": 2,
  "kernelspec": {
   "name": "python_defaultSpec_1596264106046",
   "display_name": "Python 3.7.4 64-bit ('base': conda)"
  }
 },
 "nbformat": 4,
 "nbformat_minor": 2,
 "cells": [
  {
   "cell_type": "code",
   "execution_count": null,
   "metadata": {
    "tags": []
   },
   "outputs": [],
   "source": [
    "import json\n",
    "import pandas as pd\n",
    "import hdbscan\n",
    "import numpy as np\n",
    "\n",
    "from datetime import datetime, timedelta\n",
    "from googledrivesave import trashfolder, outputtodrive\n",
    "import pygsheets\n",
    "from SQLGatherer import loaddb\n",
    "from matplotlib import pyplot as plt\n",
    "df = loaddb(hours=24)\n",
    "#gameversion = df['game_version'].max()\n",
    "#df=df.loc[df['game_version']==gameversion]\n",
    "\n",
    "assert len(df) >= 100, \"less than 100 matches in newest patch\"\n",
    "#Cluster Data"
   ]
  },
  {
   "cell_type": "code",
   "execution_count": null,
   "metadata": {
    "tags": []
   },
   "outputs": [],
   "source": [
    "from TFTClusterer import TFTClusterer\n",
    "\n",
    "clusterclass=TFTClusterer(df)\n",
    "#clusterclass.reduce_dimension(n_components = 40)\n",
    "clusterclass.cluster(divisor=25, cluster_selection_epsilon=0, n_components=20)\n",
    "clusterclass.reduce_dimension_graph()\n",
    "\n",
    "clusterclass.eval_clustering()\n",
    "clusterclass.plot.figure.savefig('fig.png')\n",
    "pd.DataFrame(clusterclass.clusterdf.groupby('hdbnumber')['hdb'].value_counts()).to_csv('hdbnumber.csv')\n",
    "print(sum(clusterclass.clusterdf['hdbnumber']==0)/len(clusterclass.clusterdf))\n",
    "\n",
    "#output Files for Power BI\n",
    "clusterclass.unitshdb.to_csv(\"unitshdb.csv\",index=False)\n",
    "clusterclass.itemshdb.to_csv(\"itemshdb.csv\",index=False)\n",
    "clusterclass.clusterdf[[\"comp_id\",\"participants.placement\",\"hdb\",\"game_variation\"]].to_csv(\"hdb.csv\",index=False)\n",
    "\n",
    "#Write newest date\n",
    "f = open('newestdate.csv','w')\n",
    "f.write(str(datetime.fromtimestamp(df['game_datetime'].max()/1e3))) #Give your csv text here.\n",
    "f.close()\n"
   ]
  },
  {
   "cell_type": "code",
   "execution_count": null,
   "metadata": {},
   "outputs": [],
   "source": []
  }
 ]
}